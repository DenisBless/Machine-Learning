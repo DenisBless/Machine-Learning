{
 "cells": [
  {
   "cell_type": "code",
   "execution_count": 2,
   "metadata": {
    "code_folding": [
     0
    ]
   },
   "outputs": [],
   "source": [
    "# Imports\n",
    "from __future__ import print_function\n",
    "from ipywidgets import interact, interactive, fixed, interact_manual\n",
    "import ipywidgets as widgets\n",
    "import numpy as np\n",
    "from scipy.stats import distributions as pdf\n",
    "import matplotlib.pyplot as plt\n",
    "plt.style.use('seaborn')\n",
    "import sklearn.datasets as dset"
   ]
  },
  {
   "cell_type": "code",
   "execution_count": 127,
   "metadata": {
    "code_folding": []
   },
   "outputs": [],
   "source": [
    "# helper functions\n",
    "def make_data(num_samples, scatter):\n",
    "    np.random.seed(123)\n",
    "    class_means =[(1,1),(1,8),(7,1)]\n",
    "    c1_samples =np.random.multivariate_normal(mean=class_means[0], \n",
    "                                             cov=[[scatter[0] *1, 0], [0, scatter[0] *1]], \n",
    "                                            size=num_samples[0])\n",
    "    c2_samples = np.random.multivariate_normal(mean=class_means[1], \n",
    "                                            cov=[[scatter[1] *1, 0], [0, scatter[1] *1]], \n",
    "                                            size=num_samples[1])\n",
    "    c3_samples = np.random.multivariate_normal(mean=class_means[2], \n",
    "                                            cov=[[scatter[2] *1, 0], [0, scatter[2] *1]], \n",
    "                                            size=num_samples[2])\n",
    "    \n",
    "    # labels\n",
    "    c1_labels = np.vstack((np.ones(c1_samples.shape[0]), \n",
    "                           np.zeros(c1_samples.shape[0]), \n",
    "                           np.zeros(c1_samples.shape[0]))).T\n",
    "    c2_labels = np.vstack((np.zeros(c2_samples.shape[0]), \n",
    "                           np.ones(c2_samples.shape[0]), \n",
    "                           np.zeros(c2_samples.shape[0]))).T\n",
    "    c3_labels = np.vstack((np.zeros(c3_samples.shape[0]), \n",
    "                           np.zeros(c3_samples.shape[0]), \n",
    "                           np.ones(c3_samples.shape[0]))).T\n",
    "    \n",
    "    \n",
    "    # feature matrix, weight matrix, label matrix (one-hot)\n",
    "    x = np.vstack((c1_samples, c2_samples, c3_samples))\n",
    "#     x = np.hstack((np.ones(x.shape[0])[:,None],x)) # bias term\n",
    "    labels = np.vstack((c1_labels, c2_labels, c3_labels))\n",
    "    \n",
    "    return x, labels, (c1_samples, c2_samples, c3_samples)\n",
    "\n",
    "def plot_data(c1_samples,c2_samples,c3_samples):\n",
    "    ax = plt.subplot()\n",
    "    ax.scatter(c1_samples[:,0],c1_samples[:,1])\n",
    "    ax.scatter(c2_samples[:,0],c2_samples[:,1])\n",
    "    ax.scatter(c3_samples[:,0],c3_samples[:,1])\n",
    "    return ax\n",
    "\n",
    "\n",
    "def loss_fn(x,weights,labels):    \n",
    "    # scores\n",
    "    s = x@weights.T  # scores\n",
    "    eps = np.max(s)  # constant for numerical stability\n",
    "    probs = (np.exp(s-eps))/ (np.sum(np.exp(s-eps), axis=1))[:,None]\n",
    "    # Loss function (negative log-likelihood)\n",
    "    loss = np.sum(-labels*np.log(probs+1e-6))\n",
    "    dloss_dw = (probs-labels).T@x\n",
    "    return loss, dloss_dw, probs\n",
    "\n",
    "\n",
    "def probability(x,weights):\n",
    "    s = x@weights.T  # scores\n",
    "    eps = np.max(s)  # constant for numerical stability\n",
    "    probs = (np.exp(s-eps))/ (np.sum(np.exp(s-eps), axis=1))[:,None]\n",
    "    return probs\n",
    "\n",
    "\n",
    "def grid(x,w, mode='sep'):\n",
    "    grid_resolution = 100\n",
    "    grid_x = np.linspace(np.min(x[:,1]),np.max(x[:,1]),grid_resolution)\n",
    "    grid_y = np.linspace(np.min(x[:,2]),np.max(x[:,2]),grid_resolution)\n",
    "\n",
    "    grid = np.zeros((grid_resolution,grid_resolution))\n",
    "    for i, ig in enumerate(grid_x):\n",
    "        for j, jg in enumerate(grid_y):\n",
    "            feats = np.array((1,ig,jg))[:,None].T\n",
    "            pr=probability(feats,w)\n",
    "            if mode == 'sep':\n",
    "                grid[i,j]=np.argmax(pr)\n",
    "            elif mode == 'probs':\n",
    "                grid[i,j]=np.max(pr)\n",
    "    return grid_x, grid_y, grid\n",
    "  \n",
    "\n",
    "def plot_decision_boundary(ax1, u, v, z, levels=None, colors=['k','k','k']):\n",
    "    # Basic contour plot\n",
    "#     fig1, ax1 = plt.subplots()\n",
    "    if levels == None:\n",
    "        ctp = ax1.contour(u, v, z, alpha=0.6)\n",
    "    else:\n",
    "        ctp = ax1.contour(u, v, z, levels=levels, colors=colors, alpha=0.6)\n",
    "        # Description of contours\n",
    "        fmt = {l: str(l) for l in ctp.levels}\n",
    "        ax1.clabel(ctp, ctp.levels, inline=True, fmt=fmt, fontsize=10)\n",
    "        ctp = ax1.contourf(u, v, z, levels=levels, cmap='Greens', alpha=0.3)\n",
    "    return ax1"
   ]
  },
  {
   "cell_type": "code",
   "execution_count": 128,
   "metadata": {},
   "outputs": [
    {
     "ename": "IndexError",
     "evalue": "index 2 is out of bounds for axis 1 with size 2",
     "output_type": "error",
     "traceback": [
      "\u001b[0;31m---------------------------------------------------------------------------\u001b[0m",
      "\u001b[0;31mIndexError\u001b[0m                                Traceback (most recent call last)",
      "\u001b[0;32m<ipython-input-128-1074e1720245>\u001b[0m in \u001b[0;36m<module>\u001b[0;34m\u001b[0m\n\u001b[1;32m     11\u001b[0m \u001b[0;34m\u001b[0m\u001b[0m\n\u001b[1;32m     12\u001b[0m \u001b[0;34m\u001b[0m\u001b[0m\n\u001b[0;32m---> 13\u001b[0;31m \u001b[0mu\u001b[0m\u001b[0;34m,\u001b[0m\u001b[0mv\u001b[0m\u001b[0;34m,\u001b[0m\u001b[0mz\u001b[0m \u001b[0;34m=\u001b[0m \u001b[0mgrid\u001b[0m\u001b[0;34m(\u001b[0m\u001b[0mx\u001b[0m\u001b[0;34m,\u001b[0m\u001b[0mw\u001b[0m\u001b[0;34m,\u001b[0m\u001b[0mmode\u001b[0m\u001b[0;34m=\u001b[0m\u001b[0;34m'sep'\u001b[0m\u001b[0;34m)\u001b[0m\u001b[0;34m\u001b[0m\u001b[0m\n\u001b[0m\u001b[1;32m     14\u001b[0m \u001b[0macc\u001b[0m \u001b[0;34m=\u001b[0m \u001b[0mnp\u001b[0m\u001b[0;34m.\u001b[0m\u001b[0msum\u001b[0m\u001b[0;34m(\u001b[0m\u001b[0mnp\u001b[0m\u001b[0;34m.\u001b[0m\u001b[0margmax\u001b[0m\u001b[0;34m(\u001b[0m\u001b[0mlabels\u001b[0m\u001b[0;34m,\u001b[0m \u001b[0maxis\u001b[0m\u001b[0;34m=\u001b[0m\u001b[0;36m1\u001b[0m\u001b[0;34m)\u001b[0m\u001b[0;34m==\u001b[0m\u001b[0mnp\u001b[0m\u001b[0;34m.\u001b[0m\u001b[0margmax\u001b[0m\u001b[0;34m(\u001b[0m\u001b[0mprobs\u001b[0m\u001b[0;34m,\u001b[0m \u001b[0maxis\u001b[0m\u001b[0;34m=\u001b[0m\u001b[0;36m1\u001b[0m\u001b[0;34m)\u001b[0m\u001b[0;34m)\u001b[0m\u001b[0;34m\u001b[0m\u001b[0m\n\u001b[1;32m     15\u001b[0m \u001b[0macc\u001b[0m \u001b[0;34m/=\u001b[0m \u001b[0mx\u001b[0m\u001b[0;34m.\u001b[0m\u001b[0mshape\u001b[0m\u001b[0;34m[\u001b[0m\u001b[0;36m0\u001b[0m\u001b[0;34m]\u001b[0m\u001b[0;34m\u001b[0m\u001b[0m\n",
      "\u001b[0;32m<ipython-input-127-f3ab5eac47aa>\u001b[0m in \u001b[0;36mgrid\u001b[0;34m(x, w, mode)\u001b[0m\n\u001b[1;32m     61\u001b[0m     \u001b[0mgrid_resolution\u001b[0m \u001b[0;34m=\u001b[0m \u001b[0;36m100\u001b[0m\u001b[0;34m\u001b[0m\u001b[0m\n\u001b[1;32m     62\u001b[0m     \u001b[0mgrid_x\u001b[0m \u001b[0;34m=\u001b[0m \u001b[0mnp\u001b[0m\u001b[0;34m.\u001b[0m\u001b[0mlinspace\u001b[0m\u001b[0;34m(\u001b[0m\u001b[0mnp\u001b[0m\u001b[0;34m.\u001b[0m\u001b[0mmin\u001b[0m\u001b[0;34m(\u001b[0m\u001b[0mx\u001b[0m\u001b[0;34m[\u001b[0m\u001b[0;34m:\u001b[0m\u001b[0;34m,\u001b[0m\u001b[0;36m1\u001b[0m\u001b[0;34m]\u001b[0m\u001b[0;34m)\u001b[0m\u001b[0;34m,\u001b[0m\u001b[0mnp\u001b[0m\u001b[0;34m.\u001b[0m\u001b[0mmax\u001b[0m\u001b[0;34m(\u001b[0m\u001b[0mx\u001b[0m\u001b[0;34m[\u001b[0m\u001b[0;34m:\u001b[0m\u001b[0;34m,\u001b[0m\u001b[0;36m1\u001b[0m\u001b[0;34m]\u001b[0m\u001b[0;34m)\u001b[0m\u001b[0;34m,\u001b[0m\u001b[0mgrid_resolution\u001b[0m\u001b[0;34m)\u001b[0m\u001b[0;34m\u001b[0m\u001b[0m\n\u001b[0;32m---> 63\u001b[0;31m     \u001b[0mgrid_y\u001b[0m \u001b[0;34m=\u001b[0m \u001b[0mnp\u001b[0m\u001b[0;34m.\u001b[0m\u001b[0mlinspace\u001b[0m\u001b[0;34m(\u001b[0m\u001b[0mnp\u001b[0m\u001b[0;34m.\u001b[0m\u001b[0mmin\u001b[0m\u001b[0;34m(\u001b[0m\u001b[0mx\u001b[0m\u001b[0;34m[\u001b[0m\u001b[0;34m:\u001b[0m\u001b[0;34m,\u001b[0m\u001b[0;36m2\u001b[0m\u001b[0;34m]\u001b[0m\u001b[0;34m)\u001b[0m\u001b[0;34m,\u001b[0m\u001b[0mnp\u001b[0m\u001b[0;34m.\u001b[0m\u001b[0mmax\u001b[0m\u001b[0;34m(\u001b[0m\u001b[0mx\u001b[0m\u001b[0;34m[\u001b[0m\u001b[0;34m:\u001b[0m\u001b[0;34m,\u001b[0m\u001b[0;36m2\u001b[0m\u001b[0;34m]\u001b[0m\u001b[0;34m)\u001b[0m\u001b[0;34m,\u001b[0m\u001b[0mgrid_resolution\u001b[0m\u001b[0;34m)\u001b[0m\u001b[0;34m\u001b[0m\u001b[0m\n\u001b[0m\u001b[1;32m     64\u001b[0m \u001b[0;34m\u001b[0m\u001b[0m\n\u001b[1;32m     65\u001b[0m     \u001b[0mgrid\u001b[0m \u001b[0;34m=\u001b[0m \u001b[0mnp\u001b[0m\u001b[0;34m.\u001b[0m\u001b[0mzeros\u001b[0m\u001b[0;34m(\u001b[0m\u001b[0;34m(\u001b[0m\u001b[0mgrid_resolution\u001b[0m\u001b[0;34m,\u001b[0m\u001b[0mgrid_resolution\u001b[0m\u001b[0;34m)\u001b[0m\u001b[0;34m)\u001b[0m\u001b[0;34m\u001b[0m\u001b[0m\n",
      "\u001b[0;31mIndexError\u001b[0m: index 2 is out of bounds for axis 1 with size 2"
     ]
    }
   ],
   "source": [
    "\n",
    "x, labels, samples = make_data((20, 20, 20),\n",
    "                               (1, 1, 1))\n",
    "w = 0.001 * np.ones((3,x.shape[1])) # #classes x features\n",
    "\n",
    "for epoch in range(10000):\n",
    "    \n",
    "        loss, dw, probs = loss_fn(x,w,labels)\n",
    "        acc = np.sum(np.argmax(labels)==np.argmax(probs))\n",
    "        w -= 0.01*dw\n",
    "\n",
    "        \n",
    "u,v,z = grid(x,w,mode='sep')\n",
    "acc = np.sum(np.argmax(labels, axis=1)==np.argmax(probs, axis=1))\n",
    "acc /= x.shape[0]\n",
    "\n",
    "\n",
    "\n",
    "ax = plot_data(*samples)\n",
    "\n",
    "# Plot missclassified data\n",
    "if acc != 1.0:\n",
    "    idx = np.argmax(labels, axis=1)!=np.argmax(probs, axis=1)\n",
    "    ax.scatter(x[idx,1], x[idx,2], marker='x', c='k')\n",
    "\n",
    "\n",
    "try: \n",
    "    ax.text(9,10,'loss: {0:.4f}'.format(loss))\n",
    "    ax.text(9,11,'acc: {0:.4f}'.format(acc)) \n",
    "except:\n",
    "    pass\n",
    "z = z.T\n",
    "ax = plot_decision_boundary(ax, u,v,z, levels=[0,0.9,1.1,2])\n",
    "plt.xlim(-4,14)\n",
    "plt.ylim(-4,14)\n",
    "#     return ax\n"
   ]
  },
  {
   "cell_type": "code",
   "execution_count": 125,
   "metadata": {},
   "outputs": [
    {
     "data": {
      "image/png": "[encoded data removed]",
      "text/plain": [
       "<Figure size 432x288 with 1 Axes>"
      ]
     },
     "execution_count": 125,
     "metadata": {},
     "output_type": "execute_result"
    }
   ],
   "source": [
    "x1= np.linspace(-5,15,200)\n",
    "ax.plot(x1,-(w[0,1]*x1+w[0,0])/w[0,2])\n",
    "ax.plot(x1,-(w[1,1]*x1+w[1,0])/w[1,2])\n",
    "ax.plot(x1,-(w[2,1]*x1+w[2,0])/w[2,2])\n",
    "ax.figure"
   ]
  },
  {
   "cell_type": "code",
   "execution_count": null,
   "metadata": {},
   "outputs": [],
   "source": []
  },
  {
   "cell_type": "code",
   "execution_count": 7,
   "metadata": {},
   "outputs": [],
   "source": [
    "g = np.zeros((3,3))\n",
    "for i ,ix in enumerate(x):\n",
    "    for j, jy in enumerate(y):\n",
    "        g[i,j] = ix * jy\n",
    "        "
   ]
  },
  {
   "cell_type": "code",
   "execution_count": 30,
   "metadata": {},
   "outputs": [
    {
     "data": {
      "text/plain": [
       "array([[0., 0., 0.],\n",
       "       [0., 1., 2.],\n",
       "       [0., 2., 4.]])"
      ]
     },
     "execution_count": 30,
     "metadata": {},
     "output_type": "execute_result"
    }
   ],
   "source": [
    "g.T"
   ]
  },
  {
   "cell_type": "code",
   "execution_count": 32,
   "metadata": {},
   "outputs": [
    {
     "data": {
      "text/plain": [
       "<matplotlib.contour.QuadContourSet at 0x1a18617b00>"
      ]
     },
     "execution_count": 32,
     "metadata": {},
     "output_type": "execute_result"
    },
    {
     "data": {
      "image/png": "[encoded data removed]",
      "text/plain": [
       "<Figure size 432x288 with 1 Axes>"
      ]
     },
     "metadata": {
      "needs_background": "light"
     },
     "output_type": "display_data"
    }
   ],
   "source": [
    "plt.contour(x,y,a, levels=[1])"
   ]
  },
  {
   "cell_type": "code",
   "execution_count": 129,
   "metadata": {},
   "outputs": [
    {
     "data": {
      "text/plain": [
       "(60, 2)"
      ]
     },
     "execution_count": 129,
     "metadata": {},
     "output_type": "execute_result"
    }
   ],
   "source": [
    "x.shape"
   ]
  },
  {
   "cell_type": "code",
   "execution_count": 130,
   "metadata": {},
   "outputs": [
    {
     "ename": "IndexError",
     "evalue": "index 2 is out of bounds for axis 1 with size 2",
     "output_type": "error",
     "traceback": [
      "\u001b[0;31m---------------------------------------------------------------------------\u001b[0m",
      "\u001b[0;31mIndexError\u001b[0m                                Traceback (most recent call last)",
      "\u001b[0;32m<ipython-input-130-3fdc00787e54>\u001b[0m in \u001b[0;36m<module>\u001b[0;34m\u001b[0m\n\u001b[1;32m     11\u001b[0m \u001b[0;34m\u001b[0m\u001b[0m\n\u001b[1;32m     12\u001b[0m \u001b[0;34m\u001b[0m\u001b[0m\n\u001b[0;32m---> 13\u001b[0;31m \u001b[0mu1\u001b[0m\u001b[0;34m,\u001b[0m\u001b[0mv1\u001b[0m\u001b[0;34m,\u001b[0m\u001b[0mz1\u001b[0m \u001b[0;34m=\u001b[0m \u001b[0mgrid\u001b[0m\u001b[0;34m(\u001b[0m\u001b[0mx\u001b[0m\u001b[0;34m,\u001b[0m\u001b[0mw\u001b[0m\u001b[0;34m,\u001b[0m\u001b[0mmode\u001b[0m\u001b[0;34m=\u001b[0m\u001b[0;34m'sep'\u001b[0m\u001b[0;34m)\u001b[0m\u001b[0;34m\u001b[0m\u001b[0m\n\u001b[0m\u001b[1;32m     14\u001b[0m \u001b[0mu2\u001b[0m\u001b[0;34m,\u001b[0m\u001b[0mv2\u001b[0m\u001b[0;34m,\u001b[0m\u001b[0mz2\u001b[0m \u001b[0;34m=\u001b[0m \u001b[0mgrid\u001b[0m\u001b[0;34m(\u001b[0m\u001b[0mx\u001b[0m\u001b[0;34m,\u001b[0m\u001b[0mw\u001b[0m\u001b[0;34m,\u001b[0m\u001b[0mmode\u001b[0m\u001b[0;34m=\u001b[0m\u001b[0;34m'probs'\u001b[0m\u001b[0;34m)\u001b[0m\u001b[0;34m\u001b[0m\u001b[0m\n\u001b[1;32m     15\u001b[0m \u001b[0macc\u001b[0m \u001b[0;34m=\u001b[0m \u001b[0mnp\u001b[0m\u001b[0;34m.\u001b[0m\u001b[0msum\u001b[0m\u001b[0;34m(\u001b[0m\u001b[0mnp\u001b[0m\u001b[0;34m.\u001b[0m\u001b[0margmax\u001b[0m\u001b[0;34m(\u001b[0m\u001b[0mlabels\u001b[0m\u001b[0;34m,\u001b[0m \u001b[0maxis\u001b[0m\u001b[0;34m=\u001b[0m\u001b[0;36m1\u001b[0m\u001b[0;34m)\u001b[0m\u001b[0;34m==\u001b[0m\u001b[0mnp\u001b[0m\u001b[0;34m.\u001b[0m\u001b[0margmax\u001b[0m\u001b[0;34m(\u001b[0m\u001b[0mprobs\u001b[0m\u001b[0;34m,\u001b[0m \u001b[0maxis\u001b[0m\u001b[0;34m=\u001b[0m\u001b[0;36m1\u001b[0m\u001b[0;34m)\u001b[0m\u001b[0;34m)\u001b[0m\u001b[0;34m\u001b[0m\u001b[0m\n",
      "\u001b[0;32m<ipython-input-127-f3ab5eac47aa>\u001b[0m in \u001b[0;36mgrid\u001b[0;34m(x, w, mode)\u001b[0m\n\u001b[1;32m     61\u001b[0m     \u001b[0mgrid_resolution\u001b[0m \u001b[0;34m=\u001b[0m \u001b[0;36m100\u001b[0m\u001b[0;34m\u001b[0m\u001b[0m\n\u001b[1;32m     62\u001b[0m     \u001b[0mgrid_x\u001b[0m \u001b[0;34m=\u001b[0m \u001b[0mnp\u001b[0m\u001b[0;34m.\u001b[0m\u001b[0mlinspace\u001b[0m\u001b[0;34m(\u001b[0m\u001b[0mnp\u001b[0m\u001b[0;34m.\u001b[0m\u001b[0mmin\u001b[0m\u001b[0;34m(\u001b[0m\u001b[0mx\u001b[0m\u001b[0;34m[\u001b[0m\u001b[0;34m:\u001b[0m\u001b[0;34m,\u001b[0m\u001b[0;36m1\u001b[0m\u001b[0;34m]\u001b[0m\u001b[0;34m)\u001b[0m\u001b[0;34m,\u001b[0m\u001b[0mnp\u001b[0m\u001b[0;34m.\u001b[0m\u001b[0mmax\u001b[0m\u001b[0;34m(\u001b[0m\u001b[0mx\u001b[0m\u001b[0;34m[\u001b[0m\u001b[0;34m:\u001b[0m\u001b[0;34m,\u001b[0m\u001b[0;36m1\u001b[0m\u001b[0;34m]\u001b[0m\u001b[0;34m)\u001b[0m\u001b[0;34m,\u001b[0m\u001b[0mgrid_resolution\u001b[0m\u001b[0;34m)\u001b[0m\u001b[0;34m\u001b[0m\u001b[0m\n\u001b[0;32m---> 63\u001b[0;31m     \u001b[0mgrid_y\u001b[0m \u001b[0;34m=\u001b[0m \u001b[0mnp\u001b[0m\u001b[0;34m.\u001b[0m\u001b[0mlinspace\u001b[0m\u001b[0;34m(\u001b[0m\u001b[0mnp\u001b[0m\u001b[0;34m.\u001b[0m\u001b[0mmin\u001b[0m\u001b[0;34m(\u001b[0m\u001b[0mx\u001b[0m\u001b[0;34m[\u001b[0m\u001b[0;34m:\u001b[0m\u001b[0;34m,\u001b[0m\u001b[0;36m2\u001b[0m\u001b[0;34m]\u001b[0m\u001b[0;34m)\u001b[0m\u001b[0;34m,\u001b[0m\u001b[0mnp\u001b[0m\u001b[0;34m.\u001b[0m\u001b[0mmax\u001b[0m\u001b[0;34m(\u001b[0m\u001b[0mx\u001b[0m\u001b[0;34m[\u001b[0m\u001b[0;34m:\u001b[0m\u001b[0;34m,\u001b[0m\u001b[0;36m2\u001b[0m\u001b[0;34m]\u001b[0m\u001b[0;34m)\u001b[0m\u001b[0;34m,\u001b[0m\u001b[0mgrid_resolution\u001b[0m\u001b[0;34m)\u001b[0m\u001b[0;34m\u001b[0m\u001b[0m\n\u001b[0m\u001b[1;32m     64\u001b[0m \u001b[0;34m\u001b[0m\u001b[0m\n\u001b[1;32m     65\u001b[0m     \u001b[0mgrid\u001b[0m \u001b[0;34m=\u001b[0m \u001b[0mnp\u001b[0m\u001b[0;34m.\u001b[0m\u001b[0mzeros\u001b[0m\u001b[0;34m(\u001b[0m\u001b[0;34m(\u001b[0m\u001b[0mgrid_resolution\u001b[0m\u001b[0;34m,\u001b[0m\u001b[0mgrid_resolution\u001b[0m\u001b[0;34m)\u001b[0m\u001b[0;34m)\u001b[0m\u001b[0;34m\u001b[0m\u001b[0m\n",
      "\u001b[0;31mIndexError\u001b[0m: index 2 is out of bounds for axis 1 with size 2"
     ]
    }
   ],
   "source": [
    "\n",
    "x, labels, samples = make_data((20, 20, 20),\n",
    "                               (1, 1, 1))\n",
    "w = 0.001 * np.ones((3,x.shape[1])) # #classes x features\n",
    "\n",
    "for epoch in range(10000):\n",
    "    \n",
    "        loss, dw, probs = loss_fn(x,w,labels)\n",
    "        acc = np.sum(np.argmax(labels)==np.argmax(probs))\n",
    "        w -= 0.01*dw\n",
    "\n",
    "        \n",
    "u1,v1,z1 = grid(x,w,mode='sep')\n",
    "u2,v2,z2 = grid(x,w,mode='probs')\n",
    "acc = np.sum(np.argmax(labels, axis=1)==np.argmax(probs, axis=1))\n",
    "acc /= x.shape[0]\n",
    "\n",
    "\n",
    "\n",
    "ax = plot_data(*samples)\n",
    "\n",
    "# Plot missclassified data\n",
    "if acc != 1.0:\n",
    "    idx = np.argmax(labels, axis=1)!=np.argmax(probs, axis=1)\n",
    "    ax.scatter(x[idx,1], x[idx,2], marker='x', c='k')\n",
    "\n",
    "\n",
    "try: \n",
    "    ax.text(9,10,'loss: {0:.4f}'.format(loss))\n",
    "    ax.text(9,11,'acc: {0:.4f}'.format(acc)) \n",
    "except:\n",
    "    pass\n",
    "\n",
    "ax = plot_decision_boundary(ax, u1,v1,z1.T,)\n",
    "ax = plot_decision_boundary(ax, u2,v2,z2.T,)\n",
    "plt.xlim(-4,14)\n",
    "plt.ylim(-4,14)\n",
    "#     return ax\n"
   ]
  },
  {
   "cell_type": "code",
   "execution_count": 149,
   "metadata": {},
   "outputs": [
    {
     "name": "stdout",
     "output_type": "stream",
     "text": [
      "training score : 1.000 (multinomial)\n"
     ]
    },
    {
     "data": {
      "image/png": "[encoded data removed]",
      "text/plain": [
       "<Figure size 432x288 with 1 Axes>"
      ]
     },
     "metadata": {
      "needs_background": "light"
     },
     "output_type": "display_data"
    }
   ],
   "source": [
    "\n",
    "from sklearn.linear_model import LogisticRegression\n",
    "\n",
    "\n",
    "for multi_class in (['multinomial']):\n",
    "    clf = LogisticRegression(solver='sag', max_iter=1000, random_state=42,\n",
    "                             multi_class=multi_class).fit(x, np.argmax(labels, axis=1))\n",
    "\n",
    "    # print the training scores\n",
    "    print(\"training score : %.3f (%s)\" % (clf.score(x, np.argmax(labels, axis=1)), multi_class))\n",
    "\n",
    "    # create a mesh to plot in\n",
    "    h = .02  # step size in the mesh\n",
    "    x_min, x_max = x[:, 0].min() - 1, x[:, 0].max() + 1\n",
    "    y_min, y_max = x[:, 1].min() - 1, x[:, 1].max() + 1\n",
    "    xx, yy = np.meshgrid(np.arange(x_min, x_max, h),\n",
    "                         np.arange(y_min, y_max, h))\n",
    "\n",
    "    # Plot the decision boundary. For that, we will assign a color to each\n",
    "    # point in the mesh [x_min, x_max]x[y_min, y_max].\n",
    "    Z = clf.predict(np.c_[xx.ravel(), yy.ravel()])\n",
    "    # Put the result into a color plot\n",
    "    Z = Z.reshape(xx.shape)\n",
    "    plt.figure()\n",
    "    plt.contourf(xx, yy, Z, cmap=plt.cm.Paired)\n",
    "    plt.title(\"Decision surface of LogisticRegression (%s)\" % multi_class)\n",
    "    plt.axis('tight')\n",
    "\n",
    "    # Plot also the training points\n",
    "    colors = \"bry\"\n",
    "    for i, color in zip(clf.classes_, colors):\n",
    "        idx = np.where(np.argmax(labels, axis=1) == i)\n",
    "        plt.scatter(x[idx, 0], x[idx, 1], c=color, cmap=plt.cm.Paired,\n",
    "                    edgecolor='black', s=20)\n",
    "\n",
    "#     # Plot the three one-against-all classifiers\n",
    "#     xmin, xmax = plt.xlim()\n",
    "#     ymin, ymax = plt.ylim()\n",
    "#     coef = clf.coef_\n",
    "#     intercept = clf.intercept_\n",
    "\n",
    "#     def plot_hyperplane(c, color):\n",
    "#         def line(x0):\n",
    "#             return (-(x0 * coef[c, 0]) - intercept[c]) / coef[c, 1]\n",
    "#         plt.plot([xmin, xmax], [line(xmin), line(xmax)],\n",
    "#                  ls=\"--\", color=color)\n",
    "\n",
    "#     for i, color in zip(clf.classes_, colors):\n",
    "#         plot_hyperplane(i, color)\n",
    "\n",
    "plt.show()"
   ]
  },
  {
   "cell_type": "code",
   "execution_count": 139,
   "metadata": {},
   "outputs": [
    {
     "data": {
      "text/plain": [
       "(60,)"
      ]
     },
     "execution_count": 139,
     "metadata": {},
     "output_type": "execute_result"
    }
   ],
   "source": [
    "np.argmax(labels, axis=1).shape"
   ]
  },
  {
   "cell_type": "code",
   "execution_count": 144,
   "metadata": {},
   "outputs": [
    {
     "data": {
      "text/plain": [
       "(702, 626)"
      ]
     },
     "execution_count": 144,
     "metadata": {},
     "output_type": "execute_result"
    }
   ],
   "source": [
    "Z.shape"
   ]
  },
  {
   "cell_type": "code",
   "execution_count": null,
   "metadata": {},
   "outputs": [],
   "source": []
  }
 ],
 "metadata": {
  "kernelspec": {
   "display_name": "Python 3",
   "language": "python",
   "name": "python3"
  },
  "language_info": {
   "codemirror_mode": {
    "name": "ipython",
    "version": 3
   },
   "file_extension": ".py",
   "mimetype": "text/x-python",
   "name": "python",
   "nbconvert_exporter": "python",
   "pygments_lexer": "ipython3",
   "version": "3.6.6"
  }
 },
 "nbformat": 4,
 "nbformat_minor": 2
}
