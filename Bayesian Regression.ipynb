{
 "cells": [
  {
   "cell_type": "code",
   "execution_count": 7,
   "metadata": {},
   "outputs": [],
   "source": [
    "# Imports\n",
    "from __future__ import print_function\n",
    "from ipywidgets import interact, interactive, fixed, interact_manual\n",
    "import ipywidgets as widgets\n",
    "import numpy as np\n",
    "from scipy.stats import distributions as pdf\n",
    "import matplotlib.pyplot as plt\n",
    "import sklearn.datasets as dset"
   ]
  },
  {
   "cell_type": "markdown",
   "metadata": {},
   "source": [
    "# Bayesian Linear Regression"
   ]
  },
  {
   "cell_type": "markdown",
   "metadata": {},
   "source": [
    "Assuming, we have some data generating function $y$. However, the given training samples differ from the true function due to noise. Make another assumption, which is, that the noise is normal distributed, the following model is obtained: <br><br>\n",
    "$\\mathbf{y}  \\sim \\mathbf{X^T}\\mathbf{\\theta}+\\mathbf{B}\\mathcal{N}(\\mathbf{0},\\mathbf{I}) \n",
    "=\\mathcal{N}(\\mathbf{X^T}\\mathbf{\\theta},\\mathbf{\\Sigma})$ <br>\n",
    "\n",
    "Next, the prior distribution over the parameters needs to be specified. \n"
   ]
  },
  {
   "cell_type": "markdown",
   "metadata": {},
   "source": []
  },
  {
   "cell_type": "markdown",
   "metadata": {},
   "source": [
    "Prior over weights: $p(w)=N(w|0,\\alpha^{-1})$"
   ]
  },
  {
   "cell_type": "markdown",
   "metadata": {},
   "source": [
    "Likelihood function:\n",
    "$p(y|x,w,\\beta) = N(y|w^Tx,\\beta^{-1})$"
   ]
  },
  {
   "cell_type": "code",
   "execution_count": 9,
   "metadata": {},
   "outputs": [],
   "source": [
    "def create_noisy_regression(num_data_samples):\n",
    "    np.random.seed(42)\n",
    "    x = np.random.uniform(-1,1,num_data_samples)\n",
    "    ground_truth_weights = np.array((-0.3,0.5))\n",
    "    targets =  ground_truth_weights[0] + ground_truth_weights[1]*x.reshape(-1,) \n",
    "    noisy_targets = targets + 0.2 *np.random.randn(x.size)\n",
    "    return x, noisy_targets"
   ]
  },
  {
   "cell_type": "code",
   "execution_count": null,
   "metadata": {},
   "outputs": [],
   "source": []
  },
  {
   "cell_type": "code",
   "execution_count": 10,
   "metadata": {},
   "outputs": [],
   "source": [
    "def weight_posterior(x, y, alpha, beta):\n",
    "    x = np.hstack((np.ones((x.size,1)),x[:,None]))\n",
    "    posterior_w_precision = alpha+beta*x.T@x\n",
    "    posterior_w_cov = np.linalg.inv(posterior_w_precision)\n",
    "    posterior_w_mean = beta*posterior_w_cov@x.T@y[:,None]\n",
    "    return posterior_w_mean, posterior_w_cov\n"
   ]
  },
  {
   "cell_type": "code",
   "execution_count": 20,
   "metadata": {},
   "outputs": [],
   "source": [
    "def sample_weights(mean, cov, num_samples):\n",
    "    w_sample = np.random.multivariate_normal(mean=mean.reshape(-1,), \n",
    "                                             cov=cov, size=num_samples)\n",
    "    return w_sample"
   ]
  },
  {
   "cell_type": "code",
   "execution_count": 21,
   "metadata": {},
   "outputs": [],
   "source": [
    "def plot_samples(w_sample):\n",
    "    num_samples = w_sample.shape[0]\n",
    "    x_plot = np.linspace(-1,1,100)\n",
    "    for i in range(num_samples):\n",
    "        plt.plot(x_plot,w_sample[i,0]+w_sample[i,1]*x_plot.reshape(-1,), c='royalblue')"
   ]
  },
  {
   "cell_type": "code",
   "execution_count": 26,
   "metadata": {},
   "outputs": [
    {
     "data": {
      "application/vnd.jupyter.widget-view+json": {
       "model_id": "673b4130c6eb47ec924d80514c28b165",
       "version_major": 2,
       "version_minor": 0
      },
      "text/plain": [
       "interactive(children=(IntSlider(value=1, description='num_datasamples', max=30, min=1), IntSlider(value=1, des…"
      ]
     },
     "metadata": {},
     "output_type": "display_data"
    },
    {
     "data": {
      "text/plain": [
       "<function __main__.bayesian_framework(num_datasamples, num_weight_samples)>"
      ]
     },
     "execution_count": 26,
     "metadata": {},
     "output_type": "execute_result"
    }
   ],
   "source": [
    "num_datasample_widget = widgets.IntSlider(min=1, max=30, step=1, value=1)\n",
    "num_weight_sample_widget = widgets.IntSlider(min=1, max=10, step=1, value=1)\n",
    "\n",
    "def bayesian_framework(num_datasamples, num_weight_samples):\n",
    "    x,y = create_noisy_regression(num_data_samples=num_datasamples)\n",
    "    alpha = 2 #  weight precision\n",
    "    beta = 25 #  target precision\n",
    "    mean, cov = weight_posterior(x, y, alpha, beta)\n",
    "    weight_samples = sample_weights(mean, cov, num_weight_samples)\n",
    "    plot_samples(weight_samples)\n",
    "    plt.scatter(x,y, c='k')\n",
    "    plt.plot(np.linspace(-1,1,80),\n",
    "             -0.3 + 0.5*np.linspace(-1,1,80), c='red')\n",
    "    plt.xlim(-1,1)\n",
    "    plt.xticks([])\n",
    "    plt.yticks([])\n",
    "    plt.ylim(-1,0.3)\n",
    "    plt.show()\n",
    "\n",
    "interact(bayesian_framework, \n",
    "         num_datasamples=num_datasample_widget,\n",
    "         num_weight_samples=num_weight_sample_widget)\n",
    "    "
   ]
  },
  {
   "cell_type": "code",
   "execution_count": null,
   "metadata": {},
   "outputs": [],
   "source": []
  }
 ],
 "metadata": {
  "kernelspec": {
   "display_name": "Python 3",
   "language": "python",
   "name": "python3"
  },
  "language_info": {
   "codemirror_mode": {
    "name": "ipython",
    "version": 3
   },
   "file_extension": ".py",
   "mimetype": "text/x-python",
   "name": "python",
   "nbconvert_exporter": "python",
   "pygments_lexer": "ipython3",
   "version": "3.6.6"
  }
 },
 "nbformat": 4,
 "nbformat_minor": 2
}
