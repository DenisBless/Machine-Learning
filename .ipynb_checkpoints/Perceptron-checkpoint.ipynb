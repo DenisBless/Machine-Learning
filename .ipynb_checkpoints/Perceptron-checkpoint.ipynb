{
 "cells": [
  {
   "cell_type": "markdown",
   "metadata": {},
   "source": [
    "# The perceptron algorithm"
   ]
  },
  {
   "cell_type": "markdown",
   "metadata": {},
   "source": [
    "The Loss function of the perceptron algorithm is given by <br> <br>\n",
    "$$L(w)=-\\sum_{n \\in \\mathcal{M}} w^T\\phi(x_n)y_n$$ where $y=1$ for Class $C_1$ and $y=-1$ for Class $C_2$ and the sum is over all missclassified targets. Correct classified targets incurring a loss of zero. \n",
    "\n",
    "The following update rule is applied to change the weights: <br> <br>\n",
    "$$w^{t+1}=w^t - \\eta \\nabla L(w)=w^t-\\eta \\phi(x_n)y_n$$\n",
    "\n",
    "The algorithm converges as soon as all targets are correctly classified. If, however the dataset is not linear separable, the algorithm will never converge."
   ]
  },
  {
   "cell_type": "code",
   "execution_count": 142,
   "metadata": {
    "code_folding": [
     0
    ]
   },
   "outputs": [],
   "source": [
    "# Imports\n",
    "from __future__ import print_function\n",
    "from ipywidgets import interact, interactive, fixed, interact_manual\n",
    "import ipywidgets as widgets\n",
    "import numpy as np\n",
    "from scipy.stats import distributions as pdf\n",
    "import matplotlib.pyplot as plt\n",
    "import sklearn.datasets as dset\n",
    "plt.style.use('seaborn')"
   ]
  },
  {
   "cell_type": "code",
   "execution_count": 184,
   "metadata": {
    "code_folding": [
     0
    ]
   },
   "outputs": [
    {
     "data": {
      "image/png": "[encoded data removed]",
      "text/plain": [
       "<Figure size 576x396 with 1 Axes>"
      ]
     },
     "metadata": {},
     "output_type": "display_data"
    }
   ],
   "source": [
    "# Dataset \n",
    "def creating_dataset(seed=1):\n",
    "    np.random.seed(seed)  # Change seed to change data\n",
    "    x, y = dset.make_classification(n_samples=15,\n",
    "                                    n_features=2, \n",
    "                                    n_informative=2, \n",
    "                                    n_redundant=0)\n",
    "    \n",
    "    return x,y\n",
    "\n",
    "x,y = creating_dataset()\n",
    "\n",
    "w = 0.001 * np.ones(x.shape[1]).reshape(-1,1) #  Initialize weights (theta)\n",
    "\n",
    "def plot_data(x,y):\n",
    "    plt.scatter(x[y==0,0],x[y==0,1],c='r')\n",
    "    plt.scatter(x[y==1,0],x[y==1,1],c='b')\n",
    "    plt.xlabel('$x1$')\n",
    "    plt.ylabel('$x2$')\n",
    "    \n",
    "\n",
    "plot_data(x,y)\n",
    "y_perceptron = np.copy(y)\n",
    "y_perceptron[y==0] = -1 # Changing labels for perceptron alg."
   ]
  },
  {
   "cell_type": "code",
   "execution_count": 155,
   "metadata": {
    "code_folding": [
     0
    ]
   },
   "outputs": [],
   "source": [
    "# Helper functions\n",
    "loss = lambda w,idx: - np.sum(x[idx]@w.reshape(-1,1)*y_perceptron[idx,None])"
   ]
  },
  {
   "cell_type": "code",
   "execution_count": 212,
   "metadata": {
    "code_folding": []
   },
   "outputs": [
    {
     "data": {
      "application/vnd.jupyter.widget-view+json": {
       "model_id": "f58bba1b7c064591b5aab4f2deac0edf",
       "version_major": 2,
       "version_minor": 0
      },
      "text/plain": [
       "interactive(children=(IntSlider(value=50, description='num_epochs', min=1), FloatSlider(value=4.1e-05, descrip…"
      ]
     },
     "metadata": {},
     "output_type": "display_data"
    }
   ],
   "source": [
    "# Interactive Perceptron Algorithm\n",
    "@interact(num_epochs=(1,100,1), learning_rate=(1e-6,1e-4,0.00001))\n",
    "def perceptron(num_epochs, learning_rate):\n",
    "    #  Initialize weights\n",
    "    w = 0.001 * np.ones(x.shape[1]).reshape(-1,1) \n",
    "    for i in range(num_epochs):  \n",
    "        # w^T * x * y\n",
    "        f = x@w.reshape(-1,1)*y_perceptron[:,None]\n",
    "        missclassified = np.where(f<0)[0]\n",
    "        # Update weights\n",
    "        w = (w + learning_rate * x[missclassified].T@y_perceptron[missclassified,None])\n",
    "        \n",
    "    # Plot\n",
    "    x_plot = np.linspace(-5,2,100)\n",
    "    plot_data(x,y)\n",
    "    plt.text(-5,-4,'Loss: {0:.6f}'.format(loss(w,missclassified)))\n",
    "    plt.text(-3,-4,'w1: {}\\nw2: {}'.format(w[0],w[1]))\n",
    "    plt.quiver(w[0],w[1])\n",
    "    plt.plot(-(w[1]/w[0])*x_plot,x_plot, c='k') # Decision Boundary (orthogonal to weightvector)\n",
    "    plt.ylim(-3,2)\n",
    "    plt.xlim(-5,2)\n"
   ]
  },
  {
   "cell_type": "code",
   "execution_count": null,
   "metadata": {},
   "outputs": [],
   "source": []
  }
 ],
 "metadata": {
  "kernelspec": {
   "display_name": "Python 3",
   "language": "python",
   "name": "python3"
  },
  "language_info": {
   "codemirror_mode": {
    "name": "ipython",
    "version": 3
   },
   "file_extension": ".py",
   "mimetype": "text/x-python",
   "name": "python",
   "nbconvert_exporter": "python",
   "pygments_lexer": "ipython3",
   "version": "3.6.6"
  }
 },
 "nbformat": 4,
 "nbformat_minor": 2
}
