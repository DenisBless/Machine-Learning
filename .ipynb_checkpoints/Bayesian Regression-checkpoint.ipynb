{
 "cells": [
  {
   "cell_type": "code",
   "execution_count": 3,
   "metadata": {},
   "outputs": [],
   "source": [
    "from pymc3 import  *\n",
    "\n",
    "import numpy as np\n",
    "import matplotlib.pyplot as plt\n",
    "plt.style.use('seaborn')"
   ]
  },
  {
   "cell_type": "markdown",
   "metadata": {},
   "source": [
    "# Bayesian Linear Regression"
   ]
  },
  {
   "cell_type": "markdown",
   "metadata": {},
   "source": [
    "Assuming, we have some data generating function $y$. However, the given training samples differ from the true function due to noise. Make another assumption, which is, that the noise is normal distributed, the following model is obtained: <br><br>\n",
    "$\\mathbf{y}  \\sim \\mathbf{X^T}\\mathbf{\\theta}+\\mathbf{B}\\mathcal{N}(\\mathbf{0},\\mathbf{I}) \n",
    "=\\mathcal{N}(\\mathbf{X^T}\\mathbf{\\theta},\\mathbf{\\Sigma})$ <br>\n",
    "\n",
    "Next, the prior distribution over the parameters needs to be specified. \n"
   ]
  },
  {
   "cell_type": "markdown",
   "metadata": {},
   "source": []
  },
  {
   "cell_type": "code",
   "execution_count": null,
   "metadata": {},
   "outputs": [],
   "source": []
  }
 ],
 "metadata": {
  "kernelspec": {
   "display_name": "Python 3",
   "language": "python",
   "name": "python3"
  },
  "language_info": {
   "codemirror_mode": {
    "name": "ipython",
    "version": 3
   },
   "file_extension": ".py",
   "mimetype": "text/x-python",
   "name": "python",
   "nbconvert_exporter": "python",
   "pygments_lexer": "ipython3",
   "version": "3.6.6"
  }
 },
 "nbformat": 4,
 "nbformat_minor": 2
}
