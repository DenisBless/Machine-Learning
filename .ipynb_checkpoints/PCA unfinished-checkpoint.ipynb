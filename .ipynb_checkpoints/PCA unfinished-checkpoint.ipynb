{
 "cells": [
  {
   "cell_type": "markdown",
   "metadata": {
    "code_folding": [
     0
    ]
   },
   "source": [
    "# Singular value decomposition\n",
    "<img src=\"utils/svd.png\" width=\"300\"/>"
   ]
  },
  {
   "cell_type": "code",
   "execution_count": null,
   "metadata": {
    "code_folding": [
     0
    ]
   },
   "outputs": [],
   "source": [
    "# Imports\n",
    "from __future__ import print_function\n",
    "from ipywidgets import interact, interactive, fixed, interact_manual\n",
    "import ipywidgets as widgets\n",
    "import numpy as np\n",
    "from scipy.stats import distributions as pdf\n",
    "import matplotlib.pyplot as plt\n",
    "import sklearn.datasets as dset\n",
    "plt.style.use('seaborn')"
   ]
  },
  {
   "cell_type": "code",
   "execution_count": 163,
   "metadata": {},
   "outputs": [],
   "source": [
    "num_samples=80\n",
    "x = np.asarray([np.random.randn(2)+2 for i in range(num_samples)])\n",
    "x1, x2= x[:,0], x[:,1]"
   ]
  },
  {
   "cell_type": "code",
   "execution_count": 164,
   "metadata": {},
   "outputs": [],
   "source": [
    "def make_dataset(num_samples, mean, scatter):\n",
    "    np.random.seed(123)\n",
    "    x = np.asarray([scatter*np.random.randn(2)+mean for i in range(num_samples)])\n",
    "    return x\n",
    "x = make_dataset(num_samples, (2,3), (1,4))"
   ]
  },
  {
   "cell_type": "code",
   "execution_count": 165,
   "metadata": {},
   "outputs": [
    {
     "data": {
      "image/png": "[encoded data removed]",
      "text/plain": [
       "<Figure size 432x288 with 1 Axes>"
      ]
     },
     "metadata": {
      "needs_background": "light"
     },
     "output_type": "display_data"
    }
   ],
   "source": [
    "plt.scatter(x[:,0],x[:,1])\n",
    "plt.show()"
   ]
  },
  {
   "cell_type": "code",
   "execution_count": 166,
   "metadata": {},
   "outputs": [],
   "source": [
    "N = x.shape[0]\n",
    "cov = (1/(N-1))*x.T@x"
   ]
  },
  {
   "cell_type": "code",
   "execution_count": 167,
   "metadata": {},
   "outputs": [],
   "source": [
    "eigval, eigvec = np.linalg.eig(cov)"
   ]
  },
  {
   "cell_type": "code",
   "execution_count": 168,
   "metadata": {},
   "outputs": [
    {
     "data": {
      "text/plain": [
       "array([[ 5.80603385,  6.33863089],\n",
       "       [ 6.33863089, 27.18166142]])"
      ]
     },
     "execution_count": 168,
     "metadata": {},
     "output_type": "execute_result"
    }
   ],
   "source": [
    "eigvec@np.eye(2)*eigval@eigvec.T"
   ]
  },
  {
   "cell_type": "code",
   "execution_count": 169,
   "metadata": {},
   "outputs": [
    {
     "data": {
      "text/plain": [
       "array([[ 5.80603385,  6.33863089],\n",
       "       [ 6.33863089, 27.18166142]])"
      ]
     },
     "execution_count": 169,
     "metadata": {},
     "output_type": "execute_result"
    }
   ],
   "source": [
    "cov"
   ]
  },
  {
   "cell_type": "code",
   "execution_count": 170,
   "metadata": {},
   "outputs": [],
   "source": [
    "u,s,v = np.linalg.svd(cov)"
   ]
  },
  {
   "cell_type": "code",
   "execution_count": 171,
   "metadata": {},
   "outputs": [
    {
     "data": {
      "text/plain": [
       "(-10, 10)"
      ]
     },
     "execution_count": 171,
     "metadata": {},
     "output_type": "execute_result"
    },
    {
     "data": {
      "image/png": "[encoded data removed]",
      "text/plain": [
       "<Figure size 432x288 with 1 Axes>"
      ]
     },
     "metadata": {
      "needs_background": "light"
     },
     "output_type": "display_data"
    }
   ],
   "source": [
    "plt.scatter(x[:,0],x[:,1])\n",
    "pos1 = np.mean(x[:,0])\n",
    "pos2 = np.mean(x[:,1])\n",
    "\n",
    "plt.quiver(pos1, pos2, *(s[0]*u[0]/5), angles='xy', scale_units='xy', scale=1)\n",
    "plt.quiver(pos1, pos2, *(s[1]*u[1]/2), angles='xy', scale_units='xy', scale=1)\n",
    "plt.xlim(-10,10)\n",
    "plt.ylim(-10,10)"
   ]
  },
  {
   "cell_type": "code",
   "execution_count": 172,
   "metadata": {},
   "outputs": [
    {
     "data": {
      "text/plain": [
       "array([[ 5.80603385,  6.33863089],\n",
       "       [ 6.33863089, 27.18166142]])"
      ]
     },
     "execution_count": 172,
     "metadata": {},
     "output_type": "execute_result"
    }
   ],
   "source": [
    "cov"
   ]
  },
  {
   "cell_type": "code",
   "execution_count": 173,
   "metadata": {},
   "outputs": [
    {
     "data": {
      "text/plain": [
       "array([ 0.96439387, -0.26447016])"
      ]
     },
     "execution_count": 173,
     "metadata": {},
     "output_type": "execute_result"
    }
   ],
   "source": [
    "u[1]"
   ]
  },
  {
   "cell_type": "code",
   "execution_count": 208,
   "metadata": {},
   "outputs": [],
   "source": [
    "x1,x2 = dset.make_regression(n_features=1,n_samples=num_samples, noise=20)"
   ]
  },
  {
   "cell_type": "code",
   "execution_count": 241,
   "metadata": {},
   "outputs": [
    {
     "ename": "ValueError",
     "evalue": "all the input array dimensions except for the concatenation axis must match exactly",
     "output_type": "error",
     "traceback": [
      "\u001b[0;31m---------------------------------------------------------------------------\u001b[0m",
      "\u001b[0;31mValueError\u001b[0m                                Traceback (most recent call last)",
      "\u001b[0;32m<ipython-input-241-c1af869e123c>\u001b[0m in \u001b[0;36m<module>\u001b[0;34m\u001b[0m\n\u001b[1;32m      1\u001b[0m \u001b[0;34m\u001b[0m\u001b[0m\n\u001b[0;32m----> 2\u001b[0;31m \u001b[0mx\u001b[0m \u001b[0;34m=\u001b[0m \u001b[0mnp\u001b[0m\u001b[0;34m.\u001b[0m\u001b[0mvstack\u001b[0m\u001b[0;34m(\u001b[0m\u001b[0;34m(\u001b[0m\u001b[0mx1\u001b[0m\u001b[0;34m/\u001b[0m\u001b[0mnp\u001b[0m\u001b[0;34m.\u001b[0m\u001b[0mmax\u001b[0m\u001b[0;34m(\u001b[0m\u001b[0mx1\u001b[0m\u001b[0;34m)\u001b[0m\u001b[0;34m.\u001b[0m\u001b[0mreshape\u001b[0m\u001b[0;34m(\u001b[0m\u001b[0;34m-\u001b[0m\u001b[0;36m1\u001b[0m\u001b[0;34m,\u001b[0m\u001b[0;36m1\u001b[0m\u001b[0;34m)\u001b[0m\u001b[0;34m,\u001b[0m\u001b[0mx2\u001b[0m\u001b[0;34m/\u001b[0m\u001b[0mnp\u001b[0m\u001b[0;34m.\u001b[0m\u001b[0mmax\u001b[0m\u001b[0;34m(\u001b[0m\u001b[0mx2\u001b[0m\u001b[0;34m)\u001b[0m\u001b[0;34m.\u001b[0m\u001b[0mreshape\u001b[0m\u001b[0;34m(\u001b[0m\u001b[0;34m-\u001b[0m\u001b[0;36m1\u001b[0m\u001b[0;34m,\u001b[0m\u001b[0;36m1\u001b[0m\u001b[0;34m)\u001b[0m\u001b[0;34m)\u001b[0m\u001b[0;34m)\u001b[0m\u001b[0;34m\u001b[0m\u001b[0m\n\u001b[0m\u001b[1;32m      3\u001b[0m \u001b[0;31m# plt.scatter(x1/np.max(x1),x2/np.max(x2))\u001b[0m\u001b[0;34m\u001b[0m\u001b[0;34m\u001b[0m\u001b[0m\n",
      "\u001b[0;32m/anaconda3/lib/python3.6/site-packages/numpy/core/shape_base.py\u001b[0m in \u001b[0;36mvstack\u001b[0;34m(tup)\u001b[0m\n\u001b[1;32m    232\u001b[0m \u001b[0;34m\u001b[0m\u001b[0m\n\u001b[1;32m    233\u001b[0m     \"\"\"\n\u001b[0;32m--> 234\u001b[0;31m     \u001b[0;32mreturn\u001b[0m \u001b[0m_nx\u001b[0m\u001b[0;34m.\u001b[0m\u001b[0mconcatenate\u001b[0m\u001b[0;34m(\u001b[0m\u001b[0;34m[\u001b[0m\u001b[0matleast_2d\u001b[0m\u001b[0;34m(\u001b[0m\u001b[0m_m\u001b[0m\u001b[0;34m)\u001b[0m \u001b[0;32mfor\u001b[0m \u001b[0m_m\u001b[0m \u001b[0;32min\u001b[0m \u001b[0mtup\u001b[0m\u001b[0;34m]\u001b[0m\u001b[0;34m,\u001b[0m \u001b[0;36m0\u001b[0m\u001b[0;34m)\u001b[0m\u001b[0;34m\u001b[0m\u001b[0m\n\u001b[0m\u001b[1;32m    235\u001b[0m \u001b[0;34m\u001b[0m\u001b[0m\n\u001b[1;32m    236\u001b[0m \u001b[0;32mdef\u001b[0m \u001b[0mhstack\u001b[0m\u001b[0;34m(\u001b[0m\u001b[0mtup\u001b[0m\u001b[0;34m)\u001b[0m\u001b[0;34m:\u001b[0m\u001b[0;34m\u001b[0m\u001b[0m\n",
      "\u001b[0;31mValueError\u001b[0m: all the input array dimensions except for the concatenation axis must match exactly"
     ]
    }
   ],
   "source": [
    "\n",
    "x = np.vstack((x1/np.max(x1).reshape(-1,1),x2/np.max(x2).reshape(-1,1)))\n",
    "# plt.scatter(x1/np.max(x1),x2/np.max(x2))\n"
   ]
  },
  {
   "cell_type": "code",
   "execution_count": null,
   "metadata": {},
   "outputs": [],
   "source": []
  },
  {
   "cell_type": "code",
   "execution_count": 215,
   "metadata": {},
   "outputs": [
    {
     "name": "stdout",
     "output_type": "stream",
     "text": [
      "[-0.43352083  0.11370525 -0.71215323 -0.14590551 -0.25757412 -0.33071845\n",
      " -0.34474581 -0.06899792 -0.10897668  0.26002091 -1.25556619 -0.55779265\n",
      "  0.41176554  0.30365762 -0.05843342 -0.21732904  0.64143031 -0.31197412\n",
      " -0.30903137  0.67639664  0.18052256 -0.15108817  0.14295911 -0.084679\n",
      "  0.38173499  0.79262017 -0.11098277 -0.26219602  0.53654404  0.01153833\n",
      " -0.31778307  0.22350505  0.42522457 -0.06832355 -0.18393571  0.30841398\n",
      "  0.3629053  -1.3549956   0.12885013 -0.38106057  0.21778953 -1.06541928\n",
      "  0.23851849  0.12288677 -0.59512454  0.3349311   0.09928822  0.04334128\n",
      " -0.93331998  0.55254195 -0.99960178  0.60400941 -0.39109696  0.71862024\n",
      "  1.          0.04695021 -0.6216697  -0.93439847  0.00570348  0.93768241\n",
      " -0.1105702  -0.64457141 -0.17439837 -0.26551999 -1.22075338 -0.09826172\n",
      "  0.4662793  -0.32919343  0.18374286 -0.1910472   0.29361086  0.10832303\n",
      " -0.31635999 -0.48592797 -0.33047367  0.58795209 -0.59304505 -0.93793248\n",
      "  0.20777117  0.28692219]\n",
      "[-0.00258611 -0.00016639 -0.0106292  -0.00307623 -0.01504843 -0.00057513\n",
      " -0.00142389 -0.00331562  0.00208314 -0.00014425 -0.0166812  -0.00530467\n",
      "  0.0111673  -0.00383088  0.00166762  0.00530447  0.0013455  -0.01363392\n",
      "  0.00476246  0.00755999  0.00499457  0.00772637  0.0023624  -0.00249134\n",
      "  0.00571126  0.01137837  0.00266188 -0.00190484  0.00887278 -0.00171451\n",
      " -0.00193975  0.0012013   0.00924586 -0.00316588 -0.00111971  0.00545983\n",
      "  0.00617484 -0.01341274 -0.00079043 -0.00282934 -0.00188472 -0.01390743\n",
      " -0.00236131  0.00081788 -0.0048119   0.00571681 -0.00815422  0.01454893\n",
      " -0.01247674  0.00341238 -0.00945838  0.00858128 -0.00978874  0.00509827\n",
      "  0.01606511  0.00249521 -0.01116765 -0.00850341  0.00406354  0.00818462\n",
      "  0.00081739 -0.00577559 -0.00527995  0.0021962  -0.01257663  0.00221987\n",
      "  0.00488872 -0.00607559  0.00143469 -0.00240468 -0.00189239  0.00286953\n",
      " -0.01015446 -0.00889233 -0.00055491  0.01370428 -0.0005166  -0.01298972\n",
      " -0.00248156  0.01033537]\n"
     ]
    }
   ],
   "source": [
    "print(x2/np.max(x2))\n",
    "print(x[:,0])"
   ]
  },
  {
   "cell_type": "code",
   "execution_count": 197,
   "metadata": {},
   "outputs": [],
   "source": [
    "N = x.shape[0]\n",
    "cov = (1/(N-1))*x.T@x"
   ]
  },
  {
   "cell_type": "code",
   "execution_count": 198,
   "metadata": {},
   "outputs": [
    {
     "data": {
      "text/plain": [
       "array([[1.10810266e+00, 7.23367106e+01],\n",
       "       [7.23367106e+01, 5.14168245e+03]])"
      ]
     },
     "execution_count": 198,
     "metadata": {},
     "output_type": "execute_result"
    }
   ],
   "source": [
    "cov"
   ]
  },
  {
   "cell_type": "code",
   "execution_count": null,
   "metadata": {},
   "outputs": [],
   "source": []
  }
 ],
 "metadata": {
  "kernelspec": {
   "display_name": "Python 3",
   "language": "python",
   "name": "python3"
  },
  "language_info": {
   "codemirror_mode": {
    "name": "ipython",
    "version": 3
   },
   "file_extension": ".py",
   "mimetype": "text/x-python",
   "name": "python",
   "nbconvert_exporter": "python",
   "pygments_lexer": "ipython3",
   "version": "3.6.6"
  }
 },
 "nbformat": 4,
 "nbformat_minor": 2
}
