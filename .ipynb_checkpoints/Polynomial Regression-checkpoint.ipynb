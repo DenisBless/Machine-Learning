{
 "cells": [
  {
   "cell_type": "code",
   "execution_count": 1,
   "metadata": {},
   "outputs": [],
   "source": [
    "# Importing all libraries needed\n",
    "import sklearn.datasets as dset\n",
    "import torch\n",
    "import numpy as np\n",
    "import matplotlib.pyplot as plt\n",
    "plt.style.use(\"seaborn\")"
   ]
  },
  {
   "cell_type": "code",
   "execution_count": 37,
   "metadata": {},
   "outputs": [],
   "source": [
    "# Setting up the parameter of the model\n",
    "param_dict = {\n",
    "    'num_data_samples': 3,\n",
    "    'noise': 1000,\n",
    "    'learning_rate': 1e-4,\n",
    "    'num_epochs': 500000,\n",
    "    'num_features': 4\n",
    "}"
   ]
  },
  {
   "cell_type": "code",
   "execution_count": 38,
   "metadata": {},
   "outputs": [],
   "source": [
    "x,y = dset.make_regression(n_samples=param_dict['num_data_samples'], n_features=1, noise=param_dict['noise'])\n",
    "y /= 50  # Scaling y "
   ]
  },
  {
   "cell_type": "code",
   "execution_count": 39,
   "metadata": {},
   "outputs": [
    {
     "data": {
      "image/png": "[encoded data removed]",
      "text/plain": [
       "<Figure size 432x288 with 1 Axes>"
      ]
     },
     "metadata": {
      "needs_background": "light"
     },
     "output_type": "display_data"
    }
   ],
   "source": [
    "# Visualizing the dataset\n",
    "plt.scatter(x[:,0],y)\n",
    "plt.xlabel('x: Data')\n",
    "plt.ylabel('y: label/target')\n",
    "plt.title(\"Dataset\")\n",
    "plt.show()"
   ]
  },
  {
   "cell_type": "code",
   "execution_count": 40,
   "metadata": {},
   "outputs": [],
   "source": [
    "# Initializing params\n",
    "def Initializer(features, M):\n",
    "    N = features.shape[0]\n",
    "    w = np.ones((M,1))\n",
    "    x = np.ones((N, M))\n",
    "    \n",
    "    for i in range(M):\n",
    "        x[:,i][:,None] = (features**i)\n",
    "\n",
    "    return x,w\n",
    "    \n",
    "x_poly, w =Initializer(x,param_dict['num_features'])"
   ]
  },
  {
   "cell_type": "code",
   "execution_count": 41,
   "metadata": {},
   "outputs": [],
   "source": [
    "# Mean Squared Error Loss\n",
    "def MSE_loss(x,w,y):\n",
    "    y_pred = np.dot(x,w).reshape(-1,) # Linear transformation\n",
    "    loss = 0.5 * np.sum(np.square(y_pred-y), axis=0) \n",
    "    return loss\n",
    "\n",
    "# Stochstic Gradient Descent\n",
    "def optimzer(x,w,y):\n",
    "    y_pred = np.dot(x,w).reshape(-1,) \n",
    "    dW = np.sum((y_pred - y)[:,None]*x , axis=0)\n",
    "    w -= learning_rate*dW[:,None]\n",
    "    return w\n"
   ]
  },
  {
   "cell_type": "code",
   "execution_count": null,
   "metadata": {},
   "outputs": [],
   "source": [
    "learning_rate = param_dict['learning_rate']\n",
    "loss_list = []\n",
    "# Training the model:\n",
    "for i in range(param_dict['num_epochs']):\n",
    "    loss = MSE_loss(x_poly,w,y)\n",
    "    loss_list.append(loss)\n",
    "    w = optimzer(x_poly,w,y)"
   ]
  },
  {
   "cell_type": "code",
   "execution_count": null,
   "metadata": {},
   "outputs": [],
   "source": [
    "x_test =np.linspace(-2,2,100)\n",
    "def poly(x,w,M):\n",
    "    y = 0.0\n",
    "    for i in range(M):\n",
    "        y += w[i]*x**i\n",
    "\n",
    "    \n",
    "    return y \n"
   ]
  },
  {
   "cell_type": "code",
   "execution_count": null,
   "metadata": {},
   "outputs": [],
   "source": [
    "y_test = poly(x_test,w,param_dict['num_features'])"
   ]
  },
  {
   "cell_type": "code",
   "execution_count": null,
   "metadata": {},
   "outputs": [],
   "source": [
    "# Visualizing the dataset\n",
    "plt.scatter(x,y)\n",
    "plt.plot(x_test,y_test)\n",
    "plt.xlabel('x: Data')\n",
    "plt.ylabel('y: label/target')\n",
    "plt.title(\"Dataset\")\n",
    "plt.show()"
   ]
  },
  {
   "cell_type": "code",
   "execution_count": null,
   "metadata": {
    "scrolled": false
   },
   "outputs": [],
   "source": [
    "plt.plot(range(len(loss_list)), loss_list)\n",
    "plt.xlabel('Number Epochs')\n",
    "plt.ylabel('Sum-of-Squares Error')\n",
    "plt.show()"
   ]
  },
  {
   "cell_type": "code",
   "execution_count": 35,
   "metadata": {},
   "outputs": [
    {
     "data": {
      "text/plain": [
       "16.959592406285157"
      ]
     },
     "execution_count": 35,
     "metadata": {},
     "output_type": "execute_result"
    }
   ],
   "source": [
    "loss_list[-1]"
   ]
  },
  {
   "cell_type": "code",
   "execution_count": 36,
   "metadata": {},
   "outputs": [
    {
     "data": {
      "text/plain": [
       "16.959786395551223"
      ]
     },
     "execution_count": 36,
     "metadata": {},
     "output_type": "execute_result"
    }
   ],
   "source": [
    "loss_list[-2]"
   ]
  },
  {
   "cell_type": "code",
   "execution_count": null,
   "metadata": {},
   "outputs": [],
   "source": []
  }
 ],
 "metadata": {
  "kernelspec": {
   "display_name": "Python 3",
   "language": "python",
   "name": "python3"
  },
  "language_info": {
   "codemirror_mode": {
    "name": "ipython",
    "version": 3
   },
   "file_extension": ".py",
   "mimetype": "text/x-python",
   "name": "python",
   "nbconvert_exporter": "python",
   "pygments_lexer": "ipython3",
   "version": "3.6.6"
  }
 },
 "nbformat": 4,
 "nbformat_minor": 2
}
