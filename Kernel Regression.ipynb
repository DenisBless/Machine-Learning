{
 "cells": [
  {
   "cell_type": "markdown",
   "metadata": {},
   "source": [
    "# Kernel Regression\n",
    "\n",
    "Another approach to fit a non-linear data generating function while still remaining linear w.r.t. the weights is the Kernel Regression. A Kernel is a function of the input data  $\\Phi(\\mathbf{x})_j$.<br> In this example we are using the Gaussian kernel which has the following form: ${\\Phi(x)_j} = e^{\\frac{-|x-\\mu_j|^2}{2\\sigma}}$.\n",
    "A key difference between e.g. polynomial regresssion and kernel regression is that there are additional parameters $\\mu_j$ and $\\sigma$. <br>\n",
    "\n",
    "Since regression only optimizes the weights in the training process, we need to decide the value of $\\mu_j$ and $\\sigma$ in advance. Note that $\\sigma$ does not have a subscript which indicates, that every kernel has the same variance. Furthermore it is our decision how many kernels we want to use to approximate the data generation function. One approch is to simply place a kernel on every value of $x$. But then there is still to decide what value $\\sigma$ takes. In fact it is really hard to determine. Later in this notebook the impact of different values for $\\sigma$ are shown to give some criteria on how to choose them."
   ]
  },
  {
   "cell_type": "code",
   "execution_count": 1,
   "metadata": {},
   "outputs": [],
   "source": [
    "# Importing all libaries needed\n",
    "import sklearn.datasets as dset\n",
    "import torch\n",
    "import numpy as np\n",
    "import matplotlib.pyplot as plt\n",
    "plt.style.use(\"seaborn\")"
   ]
  },
  {
   "cell_type": "code",
   "execution_count": 2,
   "metadata": {},
   "outputs": [],
   "source": [
    "# Setting up the parameter of the model\n",
    "param_dict = {\n",
    "    'num_data_samples': 20,\n",
    "    'noise': 1000,\n",
    "    'learning_rate': 1e-2,\n",
    "    'num_epochs': 1500,\n",
    "    'num_features': 4\n",
    "}"
   ]
  },
  {
   "cell_type": "code",
   "execution_count": 3,
   "metadata": {},
   "outputs": [],
   "source": [
    "x,y = dset.make_regression(n_samples=param_dict['num_data_samples'], n_features=1, noise=param_dict['noise'])\n",
    "y /= 500  # Scaling y "
   ]
  },
  {
   "cell_type": "code",
   "execution_count": 4,
   "metadata": {},
   "outputs": [
    {
     "data": {
      "image/png": "[encoded data removed]",
      "text/plain": [
       "<Figure size 432x288 with 1 Axes>"
      ]
     },
     "metadata": {
      "needs_background": "light"
     },
     "output_type": "display_data"
    }
   ],
   "source": [
    "# Visualizing the dataset\n",
    "plt.scatter(x[:,0],y)\n",
    "plt.xlabel('x: Data')\n",
    "plt.ylabel('y: label/target')\n",
    "plt.title(\"Dataset\")\n",
    "plt.show()"
   ]
  },
  {
   "cell_type": "code",
   "execution_count": 5,
   "metadata": {},
   "outputs": [],
   "source": [
    "# Gaussian radial basis function\n",
    "def gaussian_kernel(x, mu, sigma):\n",
    "    return np.exp(-np.square(x-mu)/(2*np.sqrt(sigma)))"
   ]
  },
  {
   "cell_type": "code",
   "execution_count": 6,
   "metadata": {},
   "outputs": [],
   "source": [
    "mu = x\n",
    "kernels ={}\n",
    "kernels['x_0'] = np.ones(x.size)[:,None]\n",
    "for i in range(x.size):\n",
    "    kernels['x_{}'.format(i+1)] = gaussian_kernel(x, x[i], 0.00002) \n",
    "\n",
    "x_rbf=np.hstack((kernels.values()))"
   ]
  },
  {
   "cell_type": "code",
   "execution_count": 7,
   "metadata": {},
   "outputs": [
    {
     "data": {
      "text/plain": [
       "(21, 1)"
      ]
     },
     "execution_count": 7,
     "metadata": {},
     "output_type": "execute_result"
    }
   ],
   "source": [
    "w = 0.1 * np.ones(x_rbf.shape[1])\n",
    "w = w[:,None]\n",
    "w.shape"
   ]
  },
  {
   "cell_type": "code",
   "execution_count": 8,
   "metadata": {},
   "outputs": [],
   "source": [
    "# Mean Squared Error Loss\n",
    "def MSE_loss(x,w,y):\n",
    "    y_pred = np.dot(x,w).reshape(-1,) # Linear transformation\n",
    "    loss = 0.5 * np.sum(np.square(y_pred-y), axis=0) \n",
    "    return loss\n",
    "\n",
    "# Stochstic Gradient Descent\n",
    "def optimzer(x,w,y):\n",
    "    y_pred = np.dot(x,w).reshape(-1,) \n",
    "    dW = np.sum((y_pred - y)[:,None]*x , axis=0)\n",
    "    w -= learning_rate*dW[:,None]\n",
    "    return w"
   ]
  },
  {
   "cell_type": "code",
   "execution_count": 9,
   "metadata": {},
   "outputs": [],
   "source": [
    "learning_rate = param_dict['learning_rate']\n",
    "loss_list = []\n",
    "# Training the model:\n",
    "for i in range(param_dict['num_epochs']):\n",
    "    loss = MSE_loss(x_rbf,w,y)\n",
    "    loss_list.append(loss)\n",
    "    w = optimzer(x_rbf,w,y)"
   ]
  },
  {
   "cell_type": "code",
   "execution_count": 10,
   "metadata": {},
   "outputs": [],
   "source": [
    "x_plot = np.linspace(-2,2,100)\n",
    "def kernel_regression_plot(x, w, mu):\n",
    "    y = w[0] * np.ones(x.shape[0])\n",
    "    \n",
    "    M = w.shape[0]-1\n",
    "    for i in range(M):\n",
    "        y += w[i+1] * gaussian_kernel(x, mu[i], 0.00002)\n",
    "        \n",
    "    return y\n",
    "        \n",
    "    "
   ]
  },
  {
   "cell_type": "code",
   "execution_count": 11,
   "metadata": {},
   "outputs": [],
   "source": [
    "y_plot = kernel_regression_plot(x_plot, w, mu)"
   ]
  },
  {
   "cell_type": "code",
   "execution_count": 12,
   "metadata": {},
   "outputs": [
    {
     "data": {
      "image/png": "[encoded data removed]",
      "text/plain": [
       "<Figure size 432x288 with 1 Axes>"
      ]
     },
     "metadata": {
      "needs_background": "light"
     },
     "output_type": "display_data"
    }
   ],
   "source": [
    "# Visualizing the dataset\n",
    "plt.scatter(x,y)\n",
    "plt.plot(x_plot,y_plot)\n",
    "plt.xlabel('x: Data')\n",
    "plt.ylabel('y: label/target')\n",
    "plt.title(\"Dataset\")\n",
    "plt.show()"
   ]
  },
  {
   "cell_type": "code",
   "execution_count": 13,
   "metadata": {},
   "outputs": [
    {
     "data": {
      "text/plain": [
       "6.462316804500921"
      ]
     },
     "execution_count": 13,
     "metadata": {},
     "output_type": "execute_result"
    }
   ],
   "source": [
    "loss_list[-1]"
   ]
  },
  {
   "cell_type": "code",
   "execution_count": 14,
   "metadata": {},
   "outputs": [
    {
     "data": {
      "text/plain": [
       "[<matplotlib.lines.Line2D at 0x1a1fea9d68>]"
      ]
     },
     "execution_count": 14,
     "metadata": {},
     "output_type": "execute_result"
    },
    {
     "data": {
      "image/png": "[encoded data removed]",
      "text/plain": [
       "<Figure size 432x288 with 1 Axes>"
      ]
     },
     "metadata": {
      "needs_background": "light"
     },
     "output_type": "display_data"
    }
   ],
   "source": [
    "plt.plot(range(len(loss_list)),loss_list)"
   ]
  },
  {
   "cell_type": "code",
   "execution_count": null,
   "metadata": {},
   "outputs": [],
   "source": []
  }
 ],
 "metadata": {
  "kernelspec": {
   "display_name": "Python 3",
   "language": "python",
   "name": "python3"
  },
  "language_info": {
   "codemirror_mode": {
    "name": "ipython",
    "version": 3
   },
   "file_extension": ".py",
   "mimetype": "text/x-python",
   "name": "python",
   "nbconvert_exporter": "python",
   "pygments_lexer": "ipython3",
   "version": "3.6.6"
  }
 },
 "nbformat": 4,
 "nbformat_minor": 2
}
